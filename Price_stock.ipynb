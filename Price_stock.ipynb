{
 "cells": [
  {
   "cell_type": "code",
   "execution_count": 9,
   "id": "3eea86e9",
   "metadata": {},
   "outputs": [],
   "source": [
    "#Problem Statement\n",
    "#Predict Prices of a Stock: : Develop time series forecasting models to predict future Stock prices.\n",
    "import pandas as pd\n",
    "import numpy as np\n",
    "import seaborn as sns\n"
   ]
  },
  {
   "cell_type": "code",
   "execution_count": 10,
   "id": "228cb59d",
   "metadata": {},
   "outputs": [],
   "source": [
    "data=pd.read_csv(r'C:\\Users\\LAX\\Desktop\\Stock_Price\\BAJFINANCE.csv')"
   ]
  },
  {
   "cell_type": "code",
   "execution_count": 11,
   "id": "2eb36fb2",
   "metadata": {},
   "outputs": [
    {
     "data": {
      "text/html": [
       "<div>\n",
       "<style scoped>\n",
       "    .dataframe tbody tr th:only-of-type {\n",
       "        vertical-align: middle;\n",
       "    }\n",
       "\n",
       "    .dataframe tbody tr th {\n",
       "        vertical-align: top;\n",
       "    }\n",
       "\n",
       "    .dataframe thead th {\n",
       "        text-align: right;\n",
       "    }\n",
       "</style>\n",
       "<table border=\"1\" class=\"dataframe\">\n",
       "  <thead>\n",
       "    <tr style=\"text-align: right;\">\n",
       "      <th></th>\n",
       "      <th>Date</th>\n",
       "      <th>Symbol</th>\n",
       "      <th>Series</th>\n",
       "      <th>Prev Close</th>\n",
       "      <th>Open</th>\n",
       "      <th>High</th>\n",
       "      <th>Low</th>\n",
       "      <th>Last</th>\n",
       "      <th>Close</th>\n",
       "      <th>VWAP</th>\n",
       "      <th>Volume</th>\n",
       "      <th>Turnover</th>\n",
       "      <th>Trades</th>\n",
       "      <th>Deliverable Volume</th>\n",
       "      <th>%Deliverble</th>\n",
       "    </tr>\n",
       "  </thead>\n",
       "  <tbody>\n",
       "    <tr>\n",
       "      <th>0</th>\n",
       "      <td>2000-01-03</td>\n",
       "      <td>BAJAUTOFIN</td>\n",
       "      <td>EQ</td>\n",
       "      <td>46.95</td>\n",
       "      <td>49.45</td>\n",
       "      <td>50.75</td>\n",
       "      <td>46.5</td>\n",
       "      <td>50.75</td>\n",
       "      <td>50.75</td>\n",
       "      <td>50.05</td>\n",
       "      <td>7600</td>\n",
       "      <td>3.803800e+10</td>\n",
       "      <td>NaN</td>\n",
       "      <td>NaN</td>\n",
       "      <td>NaN</td>\n",
       "    </tr>\n",
       "    <tr>\n",
       "      <th>1</th>\n",
       "      <td>2000-01-04</td>\n",
       "      <td>BAJAUTOFIN</td>\n",
       "      <td>EQ</td>\n",
       "      <td>50.75</td>\n",
       "      <td>53.20</td>\n",
       "      <td>53.20</td>\n",
       "      <td>47.9</td>\n",
       "      <td>48.00</td>\n",
       "      <td>48.10</td>\n",
       "      <td>48.56</td>\n",
       "      <td>5000</td>\n",
       "      <td>2.428000e+10</td>\n",
       "      <td>NaN</td>\n",
       "      <td>NaN</td>\n",
       "      <td>NaN</td>\n",
       "    </tr>\n",
       "    <tr>\n",
       "      <th>2</th>\n",
       "      <td>2000-01-05</td>\n",
       "      <td>BAJAUTOFIN</td>\n",
       "      <td>EQ</td>\n",
       "      <td>48.10</td>\n",
       "      <td>46.55</td>\n",
       "      <td>47.40</td>\n",
       "      <td>44.6</td>\n",
       "      <td>44.60</td>\n",
       "      <td>44.60</td>\n",
       "      <td>45.47</td>\n",
       "      <td>3500</td>\n",
       "      <td>1.591450e+10</td>\n",
       "      <td>NaN</td>\n",
       "      <td>NaN</td>\n",
       "      <td>NaN</td>\n",
       "    </tr>\n",
       "    <tr>\n",
       "      <th>3</th>\n",
       "      <td>2000-01-06</td>\n",
       "      <td>BAJAUTOFIN</td>\n",
       "      <td>EQ</td>\n",
       "      <td>44.60</td>\n",
       "      <td>43.50</td>\n",
       "      <td>46.00</td>\n",
       "      <td>42.1</td>\n",
       "      <td>46.00</td>\n",
       "      <td>45.25</td>\n",
       "      <td>44.43</td>\n",
       "      <td>6200</td>\n",
       "      <td>2.754750e+10</td>\n",
       "      <td>NaN</td>\n",
       "      <td>NaN</td>\n",
       "      <td>NaN</td>\n",
       "    </tr>\n",
       "    <tr>\n",
       "      <th>4</th>\n",
       "      <td>2000-01-07</td>\n",
       "      <td>BAJAUTOFIN</td>\n",
       "      <td>EQ</td>\n",
       "      <td>45.25</td>\n",
       "      <td>48.00</td>\n",
       "      <td>48.00</td>\n",
       "      <td>42.0</td>\n",
       "      <td>42.90</td>\n",
       "      <td>42.90</td>\n",
       "      <td>44.44</td>\n",
       "      <td>3500</td>\n",
       "      <td>1.555550e+10</td>\n",
       "      <td>NaN</td>\n",
       "      <td>NaN</td>\n",
       "      <td>NaN</td>\n",
       "    </tr>\n",
       "  </tbody>\n",
       "</table>\n",
       "</div>"
      ],
      "text/plain": [
       "         Date      Symbol Series  Prev Close   Open   High   Low   Last  \\\n",
       "0  2000-01-03  BAJAUTOFIN     EQ       46.95  49.45  50.75  46.5  50.75   \n",
       "1  2000-01-04  BAJAUTOFIN     EQ       50.75  53.20  53.20  47.9  48.00   \n",
       "2  2000-01-05  BAJAUTOFIN     EQ       48.10  46.55  47.40  44.6  44.60   \n",
       "3  2000-01-06  BAJAUTOFIN     EQ       44.60  43.50  46.00  42.1  46.00   \n",
       "4  2000-01-07  BAJAUTOFIN     EQ       45.25  48.00  48.00  42.0  42.90   \n",
       "\n",
       "   Close   VWAP  Volume      Turnover  Trades  Deliverable Volume  %Deliverble  \n",
       "0  50.75  50.05    7600  3.803800e+10     NaN                 NaN          NaN  \n",
       "1  48.10  48.56    5000  2.428000e+10     NaN                 NaN          NaN  \n",
       "2  44.60  45.47    3500  1.591450e+10     NaN                 NaN          NaN  \n",
       "3  45.25  44.43    6200  2.754750e+10     NaN                 NaN          NaN  \n",
       "4  42.90  44.44    3500  1.555550e+10     NaN                 NaN          NaN  "
      ]
     },
     "execution_count": 11,
     "metadata": {},
     "output_type": "execute_result"
    }
   ],
   "source": [
    "data.head()"
   ]
  },
  {
   "cell_type": "code",
   "execution_count": 12,
   "id": "b939c602",
   "metadata": {},
   "outputs": [
    {
     "data": {
      "text/plain": [
       "Date                     0\n",
       "Symbol                   0\n",
       "Series                   0\n",
       "Prev Close               0\n",
       "Open                     0\n",
       "High                     0\n",
       "Low                      0\n",
       "Last                     0\n",
       "Close                    0\n",
       "VWAP                     0\n",
       "Volume                   0\n",
       "Turnover                 0\n",
       "Trades                2779\n",
       "Deliverable Volume     446\n",
       "%Deliverble            446\n",
       "dtype: int64"
      ]
     },
     "execution_count": 12,
     "metadata": {},
     "output_type": "execute_result"
    }
   ],
   "source": [
    "#### code to check all the missing values in my dataset\n",
    "data.isnull().sum()"
   ]
  },
  {
   "cell_type": "code",
   "execution_count": 13,
   "id": "9accb920",
   "metadata": {},
   "outputs": [],
   "source": [
    "data.set_index('Date', inplace=True)"
   ]
  },
  {
   "cell_type": "code",
   "execution_count": 15,
   "id": "a84c3bb4",
   "metadata": {},
   "outputs": [
    {
     "data": {
      "text/plain": [
       "<AxesSubplot:xlabel='Date'>"
      ]
     },
     "execution_count": 15,
     "metadata": {},
     "output_type": "execute_result"
    },
    {
     "data": {
      "image/png": "[encoded data removed]",
      "text/plain": [
       "<Figure size 432x288 with 1 Axes>"
      ]
     },
     "metadata": {
      "needs_background": "light"
     },
     "output_type": "display_data"
    }
   ],
   "source": [
    "#### Plotting the target variable VWAP over time\n",
    "data['VWAP'].plot()"
   ]
  },
  {
   "cell_type": "code",
   "execution_count": 17,
   "id": "65077a45",
   "metadata": {},
   "outputs": [
    {
     "data": {
      "text/plain": [
       "(5070, 14)"
      ]
     },
     "execution_count": 17,
     "metadata": {},
     "output_type": "execute_result"
    }
   ],
   "source": [
    "data.shape"
   ]
  },
  {
   "cell_type": "code",
   "execution_count": 19,
   "id": "dcf118e8",
   "metadata": {},
   "outputs": [],
   "source": [
    "#dropping null values\n",
    "data.dropna(inplace=True)"
   ]
  },
  {
   "cell_type": "code",
   "execution_count": 20,
   "id": "3c6231dc",
   "metadata": {},
   "outputs": [
    {
     "data": {
      "text/plain": [
       "Symbol                0\n",
       "Series                0\n",
       "Prev Close            0\n",
       "Open                  0\n",
       "High                  0\n",
       "Low                   0\n",
       "Last                  0\n",
       "Close                 0\n",
       "VWAP                  0\n",
       "Volume                0\n",
       "Turnover              0\n",
       "Trades                0\n",
       "Deliverable Volume    0\n",
       "%Deliverble           0\n",
       "dtype: int64"
      ]
     },
     "execution_count": 20,
     "metadata": {},
     "output_type": "execute_result"
    }
   ],
   "source": [
    "data.isnull().sum()"
   ]
  },
  {
   "cell_type": "code",
   "execution_count": 21,
   "id": "54938227",
   "metadata": {},
   "outputs": [
    {
     "data": {
      "text/plain": [
       "(2291, 14)"
      ]
     },
     "execution_count": 21,
     "metadata": {},
     "output_type": "execute_result"
    }
   ],
   "source": [
    "data.shape"
   ]
  },
  {
   "cell_type": "code",
   "execution_count": 22,
   "id": "48882339",
   "metadata": {},
   "outputs": [],
   "source": [
    "data2=data.copy()"
   ]
  },
  {
   "cell_type": "code",
   "execution_count": 23,
   "id": "e622f93a",
   "metadata": {},
   "outputs": [
    {
     "data": {
      "text/plain": [
       "Symbol                 object\n",
       "Series                 object\n",
       "Prev Close            float64\n",
       "Open                  float64\n",
       "High                  float64\n",
       "Low                   float64\n",
       "Last                  float64\n",
       "Close                 float64\n",
       "VWAP                  float64\n",
       "Volume                  int64\n",
       "Turnover              float64\n",
       "Trades                float64\n",
       "Deliverable Volume    float64\n",
       "%Deliverble           float64\n",
       "dtype: object"
      ]
     },
     "execution_count": 23,
     "metadata": {},
     "output_type": "execute_result"
    }
   ],
   "source": [
    "data2.dtypes"
   ]
  },
  {
   "cell_type": "code",
   "execution_count": 24,
   "id": "52c2bac7",
   "metadata": {},
   "outputs": [
    {
     "data": {
      "text/plain": [
       "Index(['Symbol', 'Series', 'Prev Close', 'Open', 'High', 'Low', 'Last',\n",
       "       'Close', 'VWAP', 'Volume', 'Turnover', 'Trades', 'Deliverable Volume',\n",
       "       '%Deliverble'],\n",
       "      dtype='object')"
      ]
     },
     "execution_count": 24,
     "metadata": {},
     "output_type": "execute_result"
    }
   ],
   "source": [
    "data2.columns"
   ]
  },
  {
   "cell_type": "code",
   "execution_count": 26,
   "id": "b91e460f",
   "metadata": {},
   "outputs": [],
   "source": [
    "#Feture Engineering\n",
    "lag_features=['High','Low','Volume','Turnover','Trades']\n",
    "window1=3\n",
    "window2=7"
   ]
  },
  {
   "cell_type": "code",
   "execution_count": 28,
   "id": "8a7b9ddb",
   "metadata": {},
   "outputs": [],
   "source": [
    "for feature in lag_features:\n",
    "        data2[feature+'rolling_mean_3']=data[feature].rolling(window=window1).mean()\n",
    "        data2[feature+'rolling_mean_7']=data[feature].rolling(window=window2).mean()"
   ]
  },
  {
   "cell_type": "code",
   "execution_count": 29,
   "id": "55f7b935",
   "metadata": {},
   "outputs": [],
   "source": [
    "for feature in lag_features:\n",
    "        data[feature+'rolling_std_3']=data[feature].rolling(window=window1).std()\n",
    "        data[feature+'rolling_std_7']=data[feature].rolling(window=window2).std()"
   ]
  },
  {
   "cell_type": "code",
   "execution_count": 30,
   "id": "19bddc21",
   "metadata": {},
   "outputs": [
    {
     "data": {
      "text/html": [
       "<div>\n",
       "<style scoped>\n",
       "    .dataframe tbody tr th:only-of-type {\n",
       "        vertical-align: middle;\n",
       "    }\n",
       "\n",
       "    .dataframe tbody tr th {\n",
       "        vertical-align: top;\n",
       "    }\n",
       "\n",
       "    .dataframe thead th {\n",
       "        text-align: right;\n",
       "    }\n",
       "</style>\n",
       "<table border=\"1\" class=\"dataframe\">\n",
       "  <thead>\n",
       "    <tr style=\"text-align: right;\">\n",
       "      <th></th>\n",
       "      <th>Symbol</th>\n",
       "      <th>Series</th>\n",
       "      <th>Prev Close</th>\n",
       "      <th>Open</th>\n",
       "      <th>High</th>\n",
       "      <th>Low</th>\n",
       "      <th>Last</th>\n",
       "      <th>Close</th>\n",
       "      <th>VWAP</th>\n",
       "      <th>Volume</th>\n",
       "      <th>...</th>\n",
       "      <th>Highrolling_mean_3</th>\n",
       "      <th>Highrolling_mean_7</th>\n",
       "      <th>Lowrolling_mean_3</th>\n",
       "      <th>Lowrolling_mean_7</th>\n",
       "      <th>Volumerolling_mean_3</th>\n",
       "      <th>Volumerolling_mean_7</th>\n",
       "      <th>Turnoverrolling_mean_3</th>\n",
       "      <th>Turnoverrolling_mean_7</th>\n",
       "      <th>Tradesrolling_mean_3</th>\n",
       "      <th>Tradesrolling_mean_7</th>\n",
       "    </tr>\n",
       "    <tr>\n",
       "      <th>Date</th>\n",
       "      <th></th>\n",
       "      <th></th>\n",
       "      <th></th>\n",
       "      <th></th>\n",
       "      <th></th>\n",
       "      <th></th>\n",
       "      <th></th>\n",
       "      <th></th>\n",
       "      <th></th>\n",
       "      <th></th>\n",
       "      <th></th>\n",
       "      <th></th>\n",
       "      <th></th>\n",
       "      <th></th>\n",
       "      <th></th>\n",
       "      <th></th>\n",
       "      <th></th>\n",
       "      <th></th>\n",
       "      <th></th>\n",
       "      <th></th>\n",
       "      <th></th>\n",
       "    </tr>\n",
       "  </thead>\n",
       "  <tbody>\n",
       "    <tr>\n",
       "      <th>2011-06-01</th>\n",
       "      <td>BAJFINANCE</td>\n",
       "      <td>EQ</td>\n",
       "      <td>616.70</td>\n",
       "      <td>617.00</td>\n",
       "      <td>636.50</td>\n",
       "      <td>616.00</td>\n",
       "      <td>627.00</td>\n",
       "      <td>631.85</td>\n",
       "      <td>627.01</td>\n",
       "      <td>6894</td>\n",
       "      <td>...</td>\n",
       "      <td>NaN</td>\n",
       "      <td>NaN</td>\n",
       "      <td>NaN</td>\n",
       "      <td>NaN</td>\n",
       "      <td>NaN</td>\n",
       "      <td>NaN</td>\n",
       "      <td>NaN</td>\n",
       "      <td>NaN</td>\n",
       "      <td>NaN</td>\n",
       "      <td>NaN</td>\n",
       "    </tr>\n",
       "    <tr>\n",
       "      <th>2011-06-02</th>\n",
       "      <td>BAJFINANCE</td>\n",
       "      <td>EQ</td>\n",
       "      <td>631.85</td>\n",
       "      <td>625.00</td>\n",
       "      <td>638.90</td>\n",
       "      <td>620.00</td>\n",
       "      <td>634.00</td>\n",
       "      <td>633.45</td>\n",
       "      <td>636.04</td>\n",
       "      <td>2769</td>\n",
       "      <td>...</td>\n",
       "      <td>NaN</td>\n",
       "      <td>NaN</td>\n",
       "      <td>NaN</td>\n",
       "      <td>NaN</td>\n",
       "      <td>NaN</td>\n",
       "      <td>NaN</td>\n",
       "      <td>NaN</td>\n",
       "      <td>NaN</td>\n",
       "      <td>NaN</td>\n",
       "      <td>NaN</td>\n",
       "    </tr>\n",
       "    <tr>\n",
       "      <th>2011-06-03</th>\n",
       "      <td>BAJFINANCE</td>\n",
       "      <td>EQ</td>\n",
       "      <td>633.45</td>\n",
       "      <td>625.15</td>\n",
       "      <td>637.80</td>\n",
       "      <td>620.00</td>\n",
       "      <td>623.00</td>\n",
       "      <td>625.00</td>\n",
       "      <td>625.09</td>\n",
       "      <td>51427</td>\n",
       "      <td>...</td>\n",
       "      <td>637.733333</td>\n",
       "      <td>NaN</td>\n",
       "      <td>618.666667</td>\n",
       "      <td>NaN</td>\n",
       "      <td>20363.333333</td>\n",
       "      <td>NaN</td>\n",
       "      <td>1.274338e+12</td>\n",
       "      <td>NaN</td>\n",
       "      <td>661.000000</td>\n",
       "      <td>NaN</td>\n",
       "    </tr>\n",
       "    <tr>\n",
       "      <th>2011-06-06</th>\n",
       "      <td>BAJFINANCE</td>\n",
       "      <td>EQ</td>\n",
       "      <td>625.00</td>\n",
       "      <td>620.00</td>\n",
       "      <td>641.00</td>\n",
       "      <td>611.35</td>\n",
       "      <td>611.35</td>\n",
       "      <td>614.00</td>\n",
       "      <td>616.03</td>\n",
       "      <td>5446</td>\n",
       "      <td>...</td>\n",
       "      <td>639.233333</td>\n",
       "      <td>NaN</td>\n",
       "      <td>617.116667</td>\n",
       "      <td>NaN</td>\n",
       "      <td>19880.666667</td>\n",
       "      <td>NaN</td>\n",
       "      <td>1.242081e+12</td>\n",
       "      <td>NaN</td>\n",
       "      <td>278.333333</td>\n",
       "      <td>NaN</td>\n",
       "    </tr>\n",
       "    <tr>\n",
       "      <th>2011-06-07</th>\n",
       "      <td>BAJFINANCE</td>\n",
       "      <td>EQ</td>\n",
       "      <td>614.00</td>\n",
       "      <td>604.00</td>\n",
       "      <td>623.95</td>\n",
       "      <td>604.00</td>\n",
       "      <td>619.90</td>\n",
       "      <td>619.15</td>\n",
       "      <td>617.73</td>\n",
       "      <td>5991</td>\n",
       "      <td>...</td>\n",
       "      <td>634.250000</td>\n",
       "      <td>NaN</td>\n",
       "      <td>611.783333</td>\n",
       "      <td>NaN</td>\n",
       "      <td>20954.666667</td>\n",
       "      <td>NaN</td>\n",
       "      <td>1.306735e+12</td>\n",
       "      <td>NaN</td>\n",
       "      <td>225.333333</td>\n",
       "      <td>NaN</td>\n",
       "    </tr>\n",
       "  </tbody>\n",
       "</table>\n",
       "<p>5 rows × 24 columns</p>\n",
       "</div>"
      ],
      "text/plain": [
       "                Symbol Series  Prev Close    Open    High     Low    Last  \\\n",
       "Date                                                                        \n",
       "2011-06-01  BAJFINANCE     EQ      616.70  617.00  636.50  616.00  627.00   \n",
       "2011-06-02  BAJFINANCE     EQ      631.85  625.00  638.90  620.00  634.00   \n",
       "2011-06-03  BAJFINANCE     EQ      633.45  625.15  637.80  620.00  623.00   \n",
       "2011-06-06  BAJFINANCE     EQ      625.00  620.00  641.00  611.35  611.35   \n",
       "2011-06-07  BAJFINANCE     EQ      614.00  604.00  623.95  604.00  619.90   \n",
       "\n",
       "             Close    VWAP  Volume  ...  Highrolling_mean_3  \\\n",
       "Date                                ...                       \n",
       "2011-06-01  631.85  627.01    6894  ...                 NaN   \n",
       "2011-06-02  633.45  636.04    2769  ...                 NaN   \n",
       "2011-06-03  625.00  625.09   51427  ...          637.733333   \n",
       "2011-06-06  614.00  616.03    5446  ...          639.233333   \n",
       "2011-06-07  619.15  617.73    5991  ...          634.250000   \n",
       "\n",
       "            Highrolling_mean_7  Lowrolling_mean_3  Lowrolling_mean_7  \\\n",
       "Date                                                                   \n",
       "2011-06-01                 NaN                NaN                NaN   \n",
       "2011-06-02                 NaN                NaN                NaN   \n",
       "2011-06-03                 NaN         618.666667                NaN   \n",
       "2011-06-06                 NaN         617.116667                NaN   \n",
       "2011-06-07                 NaN         611.783333                NaN   \n",
       "\n",
       "            Volumerolling_mean_3  Volumerolling_mean_7  \\\n",
       "Date                                                     \n",
       "2011-06-01                   NaN                   NaN   \n",
       "2011-06-02                   NaN                   NaN   \n",
       "2011-06-03          20363.333333                   NaN   \n",
       "2011-06-06          19880.666667                   NaN   \n",
       "2011-06-07          20954.666667                   NaN   \n",
       "\n",
       "            Turnoverrolling_mean_3  Turnoverrolling_mean_7  \\\n",
       "Date                                                         \n",
       "2011-06-01                     NaN                     NaN   \n",
       "2011-06-02                     NaN                     NaN   \n",
       "2011-06-03            1.274338e+12                     NaN   \n",
       "2011-06-06            1.242081e+12                     NaN   \n",
       "2011-06-07            1.306735e+12                     NaN   \n",
       "\n",
       "            Tradesrolling_mean_3  Tradesrolling_mean_7  \n",
       "Date                                                    \n",
       "2011-06-01                   NaN                   NaN  \n",
       "2011-06-02                   NaN                   NaN  \n",
       "2011-06-03            661.000000                   NaN  \n",
       "2011-06-06            278.333333                   NaN  \n",
       "2011-06-07            225.333333                   NaN  \n",
       "\n",
       "[5 rows x 24 columns]"
      ]
     },
     "execution_count": 30,
     "metadata": {},
     "output_type": "execute_result"
    }
   ],
   "source": [
    "data2.head()"
   ]
  },
  {
   "cell_type": "code",
   "execution_count": 32,
   "id": "954f092e",
   "metadata": {},
   "outputs": [
    {
     "data": {
      "text/plain": [
       "Index(['Symbol', 'Series', 'Prev Close', 'Open', 'High', 'Low', 'Last',\n",
       "       'Close', 'VWAP', 'Volume', 'Turnover', 'Trades', 'Deliverable Volume',\n",
       "       '%Deliverble', 'Highrolling_mean_3', 'Highrolling_mean_7',\n",
       "       'Lowrolling_mean_3', 'Lowrolling_mean_7', 'Volumerolling_mean_3',\n",
       "       'Volumerolling_mean_7', 'Turnoverrolling_mean_3',\n",
       "       'Turnoverrolling_mean_7', 'Tradesrolling_mean_3',\n",
       "       'Tradesrolling_mean_7'],\n",
       "      dtype='object')"
      ]
     },
     "execution_count": 32,
     "metadata": {},
     "output_type": "execute_result"
    }
   ],
   "source": [
    "data2.columns"
   ]
  },
  {
   "cell_type": "code",
   "execution_count": 34,
   "id": "62b0a5cd",
   "metadata": {},
   "outputs": [
    {
     "data": {
      "text/plain": [
       "(2291, 24)"
      ]
     },
     "execution_count": 34,
     "metadata": {},
     "output_type": "execute_result"
    }
   ],
   "source": [
    "data2.shape"
   ]
  },
  {
   "cell_type": "code",
   "execution_count": 35,
   "id": "9dad9dc3",
   "metadata": {},
   "outputs": [
    {
     "data": {
      "text/plain": [
       "Symbol                    0\n",
       "Series                    0\n",
       "Prev Close                0\n",
       "Open                      0\n",
       "High                      0\n",
       "Low                       0\n",
       "Last                      0\n",
       "Close                     0\n",
       "VWAP                      0\n",
       "Volume                    0\n",
       "Turnover                  0\n",
       "Trades                    0\n",
       "Deliverable Volume        0\n",
       "%Deliverble               0\n",
       "Highrolling_mean_3        2\n",
       "Highrolling_mean_7        6\n",
       "Lowrolling_mean_3         2\n",
       "Lowrolling_mean_7         6\n",
       "Volumerolling_mean_3      2\n",
       "Volumerolling_mean_7      6\n",
       "Turnoverrolling_mean_3    2\n",
       "Turnoverrolling_mean_7    6\n",
       "Tradesrolling_mean_3      2\n",
       "Tradesrolling_mean_7      6\n",
       "dtype: int64"
      ]
     },
     "execution_count": 35,
     "metadata": {},
     "output_type": "execute_result"
    }
   ],
   "source": [
    "data2.isnull().sum()"
   ]
  },
  {
   "cell_type": "code",
   "execution_count": 36,
   "id": "467d30d3",
   "metadata": {},
   "outputs": [],
   "source": [
    "data2.dropna(inplace=True)"
   ]
  },
  {
   "cell_type": "code",
   "execution_count": 37,
   "id": "522b5c13",
   "metadata": {},
   "outputs": [
    {
     "data": {
      "text/plain": [
       "Index(['Symbol', 'Series', 'Prev Close', 'Open', 'High', 'Low', 'Last',\n",
       "       'Close', 'VWAP', 'Volume', 'Turnover', 'Trades', 'Deliverable Volume',\n",
       "       '%Deliverble', 'Highrolling_mean_3', 'Highrolling_mean_7',\n",
       "       'Lowrolling_mean_3', 'Lowrolling_mean_7', 'Volumerolling_mean_3',\n",
       "       'Volumerolling_mean_7', 'Turnoverrolling_mean_3',\n",
       "       'Turnoverrolling_mean_7', 'Tradesrolling_mean_3',\n",
       "       'Tradesrolling_mean_7'],\n",
       "      dtype='object')"
      ]
     },
     "execution_count": 37,
     "metadata": {},
     "output_type": "execute_result"
    }
   ],
   "source": [
    "data2.columns"
   ]
  },
  {
   "cell_type": "code",
   "execution_count": 38,
   "id": "08997f49",
   "metadata": {},
   "outputs": [],
   "source": [
    "ind_features=['Highrolling_mean_3', 'Highrolling_mean_7',\n",
    "       'Lowrolling_mean_3', 'Lowrolling_mean_7', 'Volumerolling_mean_3',\n",
    "       'Volumerolling_mean_7', 'Turnoverrolling_mean_3',\n",
    "       'Turnoverrolling_mean_7', 'Tradesrolling_mean_3',\n",
    "       'Tradesrolling_mean_7']"
   ]
  },
  {
   "cell_type": "code",
   "execution_count": 39,
   "id": "a3ee2656",
   "metadata": {},
   "outputs": [],
   "source": [
    "training_data=data2[0:1800]\n",
    "test_data=data2[1800:]"
   ]
  },
  {
   "cell_type": "code",
   "execution_count": 40,
   "id": "060eddf6",
   "metadata": {},
   "outputs": [
    {
     "data": {
      "text/html": [
       "<div>\n",
       "<style scoped>\n",
       "    .dataframe tbody tr th:only-of-type {\n",
       "        vertical-align: middle;\n",
       "    }\n",
       "\n",
       "    .dataframe tbody tr th {\n",
       "        vertical-align: top;\n",
       "    }\n",
       "\n",
       "    .dataframe thead th {\n",
       "        text-align: right;\n",
       "    }\n",
       "</style>\n",
       "<table border=\"1\" class=\"dataframe\">\n",
       "  <thead>\n",
       "    <tr style=\"text-align: right;\">\n",
       "      <th></th>\n",
       "      <th>Symbol</th>\n",
       "      <th>Series</th>\n",
       "      <th>Prev Close</th>\n",
       "      <th>Open</th>\n",
       "      <th>High</th>\n",
       "      <th>Low</th>\n",
       "      <th>Last</th>\n",
       "      <th>Close</th>\n",
       "      <th>VWAP</th>\n",
       "      <th>Volume</th>\n",
       "      <th>...</th>\n",
       "      <th>Highrolling_mean_3</th>\n",
       "      <th>Highrolling_mean_7</th>\n",
       "      <th>Lowrolling_mean_3</th>\n",
       "      <th>Lowrolling_mean_7</th>\n",
       "      <th>Volumerolling_mean_3</th>\n",
       "      <th>Volumerolling_mean_7</th>\n",
       "      <th>Turnoverrolling_mean_3</th>\n",
       "      <th>Turnoverrolling_mean_7</th>\n",
       "      <th>Tradesrolling_mean_3</th>\n",
       "      <th>Tradesrolling_mean_7</th>\n",
       "    </tr>\n",
       "    <tr>\n",
       "      <th>Date</th>\n",
       "      <th></th>\n",
       "      <th></th>\n",
       "      <th></th>\n",
       "      <th></th>\n",
       "      <th></th>\n",
       "      <th></th>\n",
       "      <th></th>\n",
       "      <th></th>\n",
       "      <th></th>\n",
       "      <th></th>\n",
       "      <th></th>\n",
       "      <th></th>\n",
       "      <th></th>\n",
       "      <th></th>\n",
       "      <th></th>\n",
       "      <th></th>\n",
       "      <th></th>\n",
       "      <th></th>\n",
       "      <th></th>\n",
       "      <th></th>\n",
       "      <th></th>\n",
       "    </tr>\n",
       "  </thead>\n",
       "  <tbody>\n",
       "    <tr>\n",
       "      <th>2011-06-09</th>\n",
       "      <td>BAJFINANCE</td>\n",
       "      <td>EQ</td>\n",
       "      <td>635.60</td>\n",
       "      <td>639.80</td>\n",
       "      <td>647.00</td>\n",
       "      <td>630.00</td>\n",
       "      <td>630.00</td>\n",
       "      <td>631.10</td>\n",
       "      <td>638.27</td>\n",
       "      <td>31252</td>\n",
       "      <td>...</td>\n",
       "      <td>638.650000</td>\n",
       "      <td>638.592857</td>\n",
       "      <td>612.666667</td>\n",
       "      <td>615.050000</td>\n",
       "      <td>2.136867e+04</td>\n",
       "      <td>1.866314e+04</td>\n",
       "      <td>1.356553e+12</td>\n",
       "      <td>1.175452e+12</td>\n",
       "      <td>682.666667</td>\n",
       "      <td>614.142857</td>\n",
       "    </tr>\n",
       "    <tr>\n",
       "      <th>2011-06-10</th>\n",
       "      <td>BAJFINANCE</td>\n",
       "      <td>EQ</td>\n",
       "      <td>631.10</td>\n",
       "      <td>641.85</td>\n",
       "      <td>648.25</td>\n",
       "      <td>618.55</td>\n",
       "      <td>621.10</td>\n",
       "      <td>622.20</td>\n",
       "      <td>634.16</td>\n",
       "      <td>30885</td>\n",
       "      <td>...</td>\n",
       "      <td>646.750000</td>\n",
       "      <td>640.271429</td>\n",
       "      <td>617.516667</td>\n",
       "      <td>615.414286</td>\n",
       "      <td>2.966667e+04</td>\n",
       "      <td>2.209043e+04</td>\n",
       "      <td>1.886054e+12</td>\n",
       "      <td>1.393498e+12</td>\n",
       "      <td>1045.000000</td>\n",
       "      <td>606.142857</td>\n",
       "    </tr>\n",
       "    <tr>\n",
       "      <th>2011-06-13</th>\n",
       "      <td>BAJFINANCE</td>\n",
       "      <td>EQ</td>\n",
       "      <td>622.20</td>\n",
       "      <td>616.00</td>\n",
       "      <td>627.85</td>\n",
       "      <td>616.00</td>\n",
       "      <td>622.75</td>\n",
       "      <td>624.95</td>\n",
       "      <td>622.92</td>\n",
       "      <td>3981</td>\n",
       "      <td>...</td>\n",
       "      <td>641.033333</td>\n",
       "      <td>638.692857</td>\n",
       "      <td>621.516667</td>\n",
       "      <td>614.842857</td>\n",
       "      <td>2.203933e+04</td>\n",
       "      <td>2.226357e+04</td>\n",
       "      <td>1.400430e+12</td>\n",
       "      <td>1.403765e+12</td>\n",
       "      <td>834.666667</td>\n",
       "      <td>580.142857</td>\n",
       "    </tr>\n",
       "    <tr>\n",
       "      <th>2011-06-14</th>\n",
       "      <td>BAJFINANCE</td>\n",
       "      <td>EQ</td>\n",
       "      <td>624.95</td>\n",
       "      <td>625.00</td>\n",
       "      <td>628.95</td>\n",
       "      <td>619.95</td>\n",
       "      <td>621.20</td>\n",
       "      <td>622.10</td>\n",
       "      <td>625.35</td>\n",
       "      <td>5597</td>\n",
       "      <td>...</td>\n",
       "      <td>635.016667</td>\n",
       "      <td>637.428571</td>\n",
       "      <td>618.166667</td>\n",
       "      <td>614.835714</td>\n",
       "      <td>1.348767e+04</td>\n",
       "      <td>1.571643e+04</td>\n",
       "      <td>8.521943e+11</td>\n",
       "      <td>9.945331e+11</td>\n",
       "      <td>602.666667</td>\n",
       "      <td>589.142857</td>\n",
       "    </tr>\n",
       "    <tr>\n",
       "      <th>2011-06-15</th>\n",
       "      <td>BAJFINANCE</td>\n",
       "      <td>EQ</td>\n",
       "      <td>622.10</td>\n",
       "      <td>612.00</td>\n",
       "      <td>623.00</td>\n",
       "      <td>598.10</td>\n",
       "      <td>605.00</td>\n",
       "      <td>601.70</td>\n",
       "      <td>606.90</td>\n",
       "      <td>12590</td>\n",
       "      <td>...</td>\n",
       "      <td>626.600000</td>\n",
       "      <td>634.857143</td>\n",
       "      <td>611.350000</td>\n",
       "      <td>612.942857</td>\n",
       "      <td>7.389333e+03</td>\n",
       "      <td>1.673700e+04</td>\n",
       "      <td>4.540265e+11</td>\n",
       "      <td>1.055761e+12</td>\n",
       "      <td>309.666667</td>\n",
       "      <td>619.571429</td>\n",
       "    </tr>\n",
       "    <tr>\n",
       "      <th>...</th>\n",
       "      <td>...</td>\n",
       "      <td>...</td>\n",
       "      <td>...</td>\n",
       "      <td>...</td>\n",
       "      <td>...</td>\n",
       "      <td>...</td>\n",
       "      <td>...</td>\n",
       "      <td>...</td>\n",
       "      <td>...</td>\n",
       "      <td>...</td>\n",
       "      <td>...</td>\n",
       "      <td>...</td>\n",
       "      <td>...</td>\n",
       "      <td>...</td>\n",
       "      <td>...</td>\n",
       "      <td>...</td>\n",
       "      <td>...</td>\n",
       "      <td>...</td>\n",
       "      <td>...</td>\n",
       "      <td>...</td>\n",
       "      <td>...</td>\n",
       "    </tr>\n",
       "    <tr>\n",
       "      <th>2018-09-04</th>\n",
       "      <td>BAJFINANCE</td>\n",
       "      <td>EQ</td>\n",
       "      <td>2724.05</td>\n",
       "      <td>2724.00</td>\n",
       "      <td>2777.65</td>\n",
       "      <td>2683.50</td>\n",
       "      <td>2748.00</td>\n",
       "      <td>2746.30</td>\n",
       "      <td>2726.23</td>\n",
       "      <td>2606992</td>\n",
       "      <td>...</td>\n",
       "      <td>2870.833333</td>\n",
       "      <td>2934.485714</td>\n",
       "      <td>2746.633333</td>\n",
       "      <td>2848.814286</td>\n",
       "      <td>2.160346e+06</td>\n",
       "      <td>1.649480e+06</td>\n",
       "      <td>6.015502e+14</td>\n",
       "      <td>4.715141e+14</td>\n",
       "      <td>106854.666667</td>\n",
       "      <td>87658.142857</td>\n",
       "    </tr>\n",
       "    <tr>\n",
       "      <th>2018-09-05</th>\n",
       "      <td>BAJFINANCE</td>\n",
       "      <td>EQ</td>\n",
       "      <td>2746.30</td>\n",
       "      <td>2740.15</td>\n",
       "      <td>2764.80</td>\n",
       "      <td>2668.00</td>\n",
       "      <td>2704.45</td>\n",
       "      <td>2716.90</td>\n",
       "      <td>2712.53</td>\n",
       "      <td>1728455</td>\n",
       "      <td>...</td>\n",
       "      <td>2807.483333</td>\n",
       "      <td>2906.742857</td>\n",
       "      <td>2688.933333</td>\n",
       "      <td>2812.092857</td>\n",
       "      <td>2.284096e+06</td>\n",
       "      <td>1.756973e+06</td>\n",
       "      <td>6.276342e+14</td>\n",
       "      <td>4.974827e+14</td>\n",
       "      <td>95882.333333</td>\n",
       "      <td>90342.000000</td>\n",
       "    </tr>\n",
       "    <tr>\n",
       "      <th>2018-09-06</th>\n",
       "      <td>BAJFINANCE</td>\n",
       "      <td>EQ</td>\n",
       "      <td>2716.90</td>\n",
       "      <td>2729.00</td>\n",
       "      <td>2731.50</td>\n",
       "      <td>2671.40</td>\n",
       "      <td>2672.20</td>\n",
       "      <td>2684.10</td>\n",
       "      <td>2695.89</td>\n",
       "      <td>1147879</td>\n",
       "      <td>...</td>\n",
       "      <td>2757.983333</td>\n",
       "      <td>2870.957143</td>\n",
       "      <td>2674.300000</td>\n",
       "      <td>2775.750000</td>\n",
       "      <td>1.827775e+06</td>\n",
       "      <td>1.744707e+06</td>\n",
       "      <td>4.963438e+14</td>\n",
       "      <td>4.897104e+14</td>\n",
       "      <td>75136.333333</td>\n",
       "      <td>84844.571429</td>\n",
       "    </tr>\n",
       "    <tr>\n",
       "      <th>2018-09-07</th>\n",
       "      <td>BAJFINANCE</td>\n",
       "      <td>EQ</td>\n",
       "      <td>2684.10</td>\n",
       "      <td>2698.40</td>\n",
       "      <td>2751.40</td>\n",
       "      <td>2672.60</td>\n",
       "      <td>2745.00</td>\n",
       "      <td>2744.20</td>\n",
       "      <td>2716.32</td>\n",
       "      <td>1264436</td>\n",
       "      <td>...</td>\n",
       "      <td>2749.233333</td>\n",
       "      <td>2836.300000</td>\n",
       "      <td>2670.666667</td>\n",
       "      <td>2738.978571</td>\n",
       "      <td>1.380257e+06</td>\n",
       "      <td>1.724972e+06</td>\n",
       "      <td>3.739218e+14</td>\n",
       "      <td>4.792625e+14</td>\n",
       "      <td>57947.666667</td>\n",
       "      <td>83329.428571</td>\n",
       "    </tr>\n",
       "    <tr>\n",
       "      <th>2018-09-10</th>\n",
       "      <td>BAJFINANCE</td>\n",
       "      <td>EQ</td>\n",
       "      <td>2744.20</td>\n",
       "      <td>2732.00</td>\n",
       "      <td>2738.00</td>\n",
       "      <td>2596.00</td>\n",
       "      <td>2607.60</td>\n",
       "      <td>2615.65</td>\n",
       "      <td>2655.39</td>\n",
       "      <td>1570179</td>\n",
       "      <td>...</td>\n",
       "      <td>2740.300000</td>\n",
       "      <td>2799.742857</td>\n",
       "      <td>2646.666667</td>\n",
       "      <td>2692.557143</td>\n",
       "      <td>1.327498e+06</td>\n",
       "      <td>1.741712e+06</td>\n",
       "      <td>3.566204e+14</td>\n",
       "      <td>4.776229e+14</td>\n",
       "      <td>60036.666667</td>\n",
       "      <td>81631.857143</td>\n",
       "    </tr>\n",
       "  </tbody>\n",
       "</table>\n",
       "<p>1800 rows × 24 columns</p>\n",
       "</div>"
      ],
      "text/plain": [
       "                Symbol Series  Prev Close     Open     High      Low     Last  \\\n",
       "Date                                                                            \n",
       "2011-06-09  BAJFINANCE     EQ      635.60   639.80   647.00   630.00   630.00   \n",
       "2011-06-10  BAJFINANCE     EQ      631.10   641.85   648.25   618.55   621.10   \n",
       "2011-06-13  BAJFINANCE     EQ      622.20   616.00   627.85   616.00   622.75   \n",
       "2011-06-14  BAJFINANCE     EQ      624.95   625.00   628.95   619.95   621.20   \n",
       "2011-06-15  BAJFINANCE     EQ      622.10   612.00   623.00   598.10   605.00   \n",
       "...                ...    ...         ...      ...      ...      ...      ...   \n",
       "2018-09-04  BAJFINANCE     EQ     2724.05  2724.00  2777.65  2683.50  2748.00   \n",
       "2018-09-05  BAJFINANCE     EQ     2746.30  2740.15  2764.80  2668.00  2704.45   \n",
       "2018-09-06  BAJFINANCE     EQ     2716.90  2729.00  2731.50  2671.40  2672.20   \n",
       "2018-09-07  BAJFINANCE     EQ     2684.10  2698.40  2751.40  2672.60  2745.00   \n",
       "2018-09-10  BAJFINANCE     EQ     2744.20  2732.00  2738.00  2596.00  2607.60   \n",
       "\n",
       "              Close     VWAP   Volume  ...  Highrolling_mean_3  \\\n",
       "Date                                   ...                       \n",
       "2011-06-09   631.10   638.27    31252  ...          638.650000   \n",
       "2011-06-10   622.20   634.16    30885  ...          646.750000   \n",
       "2011-06-13   624.95   622.92     3981  ...          641.033333   \n",
       "2011-06-14   622.10   625.35     5597  ...          635.016667   \n",
       "2011-06-15   601.70   606.90    12590  ...          626.600000   \n",
       "...             ...      ...      ...  ...                 ...   \n",
       "2018-09-04  2746.30  2726.23  2606992  ...         2870.833333   \n",
       "2018-09-05  2716.90  2712.53  1728455  ...         2807.483333   \n",
       "2018-09-06  2684.10  2695.89  1147879  ...         2757.983333   \n",
       "2018-09-07  2744.20  2716.32  1264436  ...         2749.233333   \n",
       "2018-09-10  2615.65  2655.39  1570179  ...         2740.300000   \n",
       "\n",
       "            Highrolling_mean_7  Lowrolling_mean_3  Lowrolling_mean_7  \\\n",
       "Date                                                                   \n",
       "2011-06-09          638.592857         612.666667         615.050000   \n",
       "2011-06-10          640.271429         617.516667         615.414286   \n",
       "2011-06-13          638.692857         621.516667         614.842857   \n",
       "2011-06-14          637.428571         618.166667         614.835714   \n",
       "2011-06-15          634.857143         611.350000         612.942857   \n",
       "...                        ...                ...                ...   \n",
       "2018-09-04         2934.485714        2746.633333        2848.814286   \n",
       "2018-09-05         2906.742857        2688.933333        2812.092857   \n",
       "2018-09-06         2870.957143        2674.300000        2775.750000   \n",
       "2018-09-07         2836.300000        2670.666667        2738.978571   \n",
       "2018-09-10         2799.742857        2646.666667        2692.557143   \n",
       "\n",
       "            Volumerolling_mean_3  Volumerolling_mean_7  \\\n",
       "Date                                                     \n",
       "2011-06-09          2.136867e+04          1.866314e+04   \n",
       "2011-06-10          2.966667e+04          2.209043e+04   \n",
       "2011-06-13          2.203933e+04          2.226357e+04   \n",
       "2011-06-14          1.348767e+04          1.571643e+04   \n",
       "2011-06-15          7.389333e+03          1.673700e+04   \n",
       "...                          ...                   ...   \n",
       "2018-09-04          2.160346e+06          1.649480e+06   \n",
       "2018-09-05          2.284096e+06          1.756973e+06   \n",
       "2018-09-06          1.827775e+06          1.744707e+06   \n",
       "2018-09-07          1.380257e+06          1.724972e+06   \n",
       "2018-09-10          1.327498e+06          1.741712e+06   \n",
       "\n",
       "            Turnoverrolling_mean_3  Turnoverrolling_mean_7  \\\n",
       "Date                                                         \n",
       "2011-06-09            1.356553e+12            1.175452e+12   \n",
       "2011-06-10            1.886054e+12            1.393498e+12   \n",
       "2011-06-13            1.400430e+12            1.403765e+12   \n",
       "2011-06-14            8.521943e+11            9.945331e+11   \n",
       "2011-06-15            4.540265e+11            1.055761e+12   \n",
       "...                            ...                     ...   \n",
       "2018-09-04            6.015502e+14            4.715141e+14   \n",
       "2018-09-05            6.276342e+14            4.974827e+14   \n",
       "2018-09-06            4.963438e+14            4.897104e+14   \n",
       "2018-09-07            3.739218e+14            4.792625e+14   \n",
       "2018-09-10            3.566204e+14            4.776229e+14   \n",
       "\n",
       "            Tradesrolling_mean_3  Tradesrolling_mean_7  \n",
       "Date                                                    \n",
       "2011-06-09            682.666667            614.142857  \n",
       "2011-06-10           1045.000000            606.142857  \n",
       "2011-06-13            834.666667            580.142857  \n",
       "2011-06-14            602.666667            589.142857  \n",
       "2011-06-15            309.666667            619.571429  \n",
       "...                          ...                   ...  \n",
       "2018-09-04         106854.666667          87658.142857  \n",
       "2018-09-05          95882.333333          90342.000000  \n",
       "2018-09-06          75136.333333          84844.571429  \n",
       "2018-09-07          57947.666667          83329.428571  \n",
       "2018-09-10          60036.666667          81631.857143  \n",
       "\n",
       "[1800 rows x 24 columns]"
      ]
     },
     "execution_count": 40,
     "metadata": {},
     "output_type": "execute_result"
    }
   ],
   "source": [
    "training_data"
   ]
  },
  {
   "cell_type": "code",
   "execution_count": 45,
   "id": "31210655",
   "metadata": {},
   "outputs": [
    {
     "name": "stdout",
     "output_type": "stream",
     "text": [
      "Requirement already satisfied: pmdarima in c:\\users\\lax\\anaconda3\\lib\\site-packages (1.8.2)\n",
      "Requirement already satisfied: scipy>=1.3.2 in c:\\users\\lax\\anaconda3\\lib\\site-packages (from pmdarima) (1.6.2)\n",
      "Requirement already satisfied: numpy~=1.19.0 in c:\\users\\lax\\anaconda3\\lib\\site-packages (from pmdarima) (1.19.5)\n",
      "Requirement already satisfied: pandas>=0.19 in c:\\users\\lax\\anaconda3\\lib\\site-packages (from pmdarima) (1.2.4)\n",
      "Requirement already satisfied: scikit-learn>=0.22 in c:\\users\\lax\\anaconda3\\lib\\site-packages (from pmdarima) (0.24.1)\n",
      "Requirement already satisfied: Cython!=0.29.18,>=0.29 in c:\\users\\lax\\anaconda3\\lib\\site-packages (from pmdarima) (0.29.23)\n",
      "Requirement already satisfied: statsmodels!=0.12.0,>=0.11 in c:\\users\\lax\\anaconda3\\lib\\site-packages (from pmdarima) (0.12.2)\n",
      "Requirement already satisfied: urllib3 in c:\\users\\lax\\anaconda3\\lib\\site-packages (from pmdarima) (1.26.4)\n",
      "Requirement already satisfied: setuptools!=50.0.0,>=38.6.0 in c:\\users\\lax\\anaconda3\\lib\\site-packages (from pmdarima) (52.0.0.post20210125)\n",
      "Requirement already satisfied: joblib>=0.11 in c:\\users\\lax\\anaconda3\\lib\\site-packages (from pmdarima) (1.0.1)\n",
      "Requirement already satisfied: python-dateutil>=2.7.3 in c:\\users\\lax\\anaconda3\\lib\\site-packages (from pandas>=0.19->pmdarima) (2.8.1)\n",
      "Requirement already satisfied: pytz>=2017.3 in c:\\users\\lax\\anaconda3\\lib\\site-packages (from pandas>=0.19->pmdarima) (2021.1)\n",
      "Requirement already satisfied: six>=1.5 in c:\\users\\lax\\anaconda3\\lib\\site-packages (from python-dateutil>=2.7.3->pandas>=0.19->pmdarima) (1.15.0)\n",
      "Requirement already satisfied: threadpoolctl>=2.0.0 in c:\\users\\lax\\anaconda3\\lib\\site-packages (from scikit-learn>=0.22->pmdarima) (2.1.0)\n",
      "Requirement already satisfied: patsy>=0.5 in c:\\users\\lax\\anaconda3\\lib\\site-packages (from statsmodels!=0.12.0,>=0.11->pmdarima) (0.5.1)\n"
     ]
    }
   ],
   "source": [
    "!pip install pmdarima\n"
   ]
  },
  {
   "cell_type": "code",
   "execution_count": 47,
   "id": "15a8a774",
   "metadata": {},
   "outputs": [],
   "source": [
    "#applying Arima \n",
    "from pmdarima import auto_arima"
   ]
  },
  {
   "cell_type": "code",
   "execution_count": 48,
   "id": "298e5b6c",
   "metadata": {},
   "outputs": [
    {
     "name": "stdout",
     "output_type": "stream",
     "text": [
      "Performing stepwise search to minimize aic\n",
      " ARIMA(2,0,2)(0,0,0)[0] intercept   : AIC=23302.035, Time=16.56 sec\n",
      " ARIMA(0,0,0)(0,0,0)[0] intercept   : AIC=23735.878, Time=6.17 sec\n",
      " ARIMA(1,0,0)(0,0,0)[0] intercept   : AIC=23587.486, Time=5.19 sec\n",
      " ARIMA(0,0,1)(0,0,0)[0] intercept   : AIC=23461.608, Time=6.27 sec\n",
      " ARIMA(0,0,0)(0,0,0)[0]             : AIC=35427.197, Time=3.76 sec\n",
      " ARIMA(1,0,2)(0,0,0)[0] intercept   : AIC=23327.625, Time=6.68 sec\n",
      " ARIMA(2,0,1)(0,0,0)[0] intercept   : AIC=23369.488, Time=7.98 sec\n",
      " ARIMA(3,0,2)(0,0,0)[0] intercept   : AIC=23289.900, Time=6.70 sec\n",
      " ARIMA(3,0,1)(0,0,0)[0] intercept   : AIC=23371.793, Time=8.45 sec\n",
      " ARIMA(4,0,2)(0,0,0)[0] intercept   : AIC=23291.474, Time=9.27 sec\n",
      " ARIMA(3,0,3)(0,0,0)[0] intercept   : AIC=23295.433, Time=8.05 sec\n",
      " ARIMA(2,0,3)(0,0,0)[0] intercept   : AIC=23313.382, Time=7.12 sec\n",
      " ARIMA(4,0,1)(0,0,0)[0] intercept   : AIC=23323.441, Time=7.89 sec\n",
      " ARIMA(4,0,3)(0,0,0)[0] intercept   : AIC=23295.017, Time=9.02 sec\n",
      " ARIMA(3,0,2)(0,0,0)[0]             : AIC=23286.428, Time=7.46 sec\n",
      " ARIMA(2,0,2)(0,0,0)[0]             : AIC=23289.254, Time=5.75 sec\n",
      " ARIMA(3,0,1)(0,0,0)[0]             : AIC=23370.139, Time=5.91 sec\n",
      " ARIMA(4,0,2)(0,0,0)[0]             : AIC=23288.409, Time=6.27 sec\n",
      " ARIMA(3,0,3)(0,0,0)[0]             : AIC=23291.267, Time=6.59 sec\n",
      " ARIMA(2,0,1)(0,0,0)[0]             : AIC=23367.875, Time=5.62 sec\n",
      " ARIMA(2,0,3)(0,0,0)[0]             : AIC=23300.711, Time=6.57 sec\n",
      " ARIMA(4,0,1)(0,0,0)[0]             : AIC=23321.923, Time=9.16 sec\n",
      " ARIMA(4,0,3)(0,0,0)[0]             : AIC=23293.202, Time=8.56 sec\n",
      "\n",
      "Best model:  ARIMA(3,0,2)(0,0,0)[0]          \n",
      "Total fit time: 176.706 seconds\n"
     ]
    }
   ],
   "source": [
    "model=auto_arima(y=training_data['VWAP'],exogenous=training_data[ind_features],trace=True)"
   ]
  },
  {
   "cell_type": "code",
   "execution_count": 49,
   "id": "10d2e8e5",
   "metadata": {},
   "outputs": [
    {
     "data": {
      "text/plain": [
       "ARIMA(order=(3, 0, 2), scoring_args={}, suppress_warnings=True,\n",
       "      with_intercept=False)"
      ]
     },
     "execution_count": 49,
     "metadata": {},
     "output_type": "execute_result"
    }
   ],
   "source": [
    "model.fit(training_data['VWAP'],training_data[ind_features])\n"
   ]
  },
  {
   "cell_type": "code",
   "execution_count": 50,
   "id": "8ae0f872",
   "metadata": {},
   "outputs": [
    {
     "name": "stderr",
     "output_type": "stream",
     "text": [
      "C:\\Users\\LAX\\anaconda3\\lib\\site-packages\\statsmodels\\tsa\\base\\tsa_model.py:376: ValueWarning: No supported index is available. Prediction results will be given with an integer index beginning at `start`.\n",
      "  warnings.warn('No supported index is available.'\n"
     ]
    }
   ],
   "source": [
    "\n",
    "forecast=model.predict(n_periods=len(test_data), exogenous=test_data[ind_features])"
   ]
  },
  {
   "cell_type": "code",
   "execution_count": 51,
   "id": "ff05208f",
   "metadata": {},
   "outputs": [
    {
     "name": "stderr",
     "output_type": "stream",
     "text": [
      "<ipython-input-51-5aacccf561f5>:1: SettingWithCopyWarning: \n",
      "A value is trying to be set on a copy of a slice from a DataFrame.\n",
      "Try using .loc[row_indexer,col_indexer] = value instead\n",
      "\n",
      "See the caveats in the documentation: https://pandas.pydata.org/pandas-docs/stable/user_guide/indexing.html#returning-a-view-versus-a-copy\n",
      "  test_data['Forecast_ARIMA']=forecast\n"
     ]
    }
   ],
   "source": [
    "test_data['Forecast_ARIMA']=forecast"
   ]
  },
  {
   "cell_type": "code",
   "execution_count": 52,
   "id": "8eb2ee9a",
   "metadata": {},
   "outputs": [
    {
     "data": {
      "text/plain": [
       "<AxesSubplot:xlabel='Date'>"
      ]
     },
     "execution_count": 52,
     "metadata": {},
     "output_type": "execute_result"
    },
    {
     "data": {
      "image/png": "[encoded data removed]",
      "text/plain": [
       "<Figure size 1008x504 with 1 Axes>"
      ]
     },
     "metadata": {
      "needs_background": "light"
     },
     "output_type": "display_data"
    }
   ],
   "source": [
    "test_data[['VWAP','Forecast_ARIMA']].plot(figsize=(14,7))"
   ]
  },
  {
   "cell_type": "code",
   "execution_count": null,
   "id": "f2440b8b",
   "metadata": {},
   "outputs": [],
   "source": [
    "#### The Auto ARIMA model seems to do a fairly good job in predicting the stock price\n"
   ]
  },
  {
   "cell_type": "code",
   "execution_count": 53,
   "id": "cae29e42",
   "metadata": {},
   "outputs": [],
   "source": [
    "from sklearn.metrics import mean_absolute_error, mean_squared_error"
   ]
  },
  {
   "cell_type": "code",
   "execution_count": 54,
   "id": "55052b84",
   "metadata": {},
   "outputs": [
    {
     "data": {
      "text/plain": [
       "138.03573980870615"
      ]
     },
     "execution_count": 54,
     "metadata": {},
     "output_type": "execute_result"
    }
   ],
   "source": [
    "np.sqrt(mean_squared_error(test_data['VWAP'],test_data['Forecast_ARIMA']))"
   ]
  },
  {
   "cell_type": "code",
   "execution_count": 55,
   "id": "7ba7754c",
   "metadata": {},
   "outputs": [
    {
     "data": {
      "text/plain": [
       "86.19708669151764"
      ]
     },
     "execution_count": 55,
     "metadata": {},
     "output_type": "execute_result"
    }
   ],
   "source": [
    "mean_absolute_error(test_data['VWAP'],test_data['Forecast_ARIMA'])"
   ]
  },
  {
   "cell_type": "code",
   "execution_count": null,
   "id": "302510e3",
   "metadata": {},
   "outputs": [],
   "source": []
  }
 ],
 "metadata": {
  "kernelspec": {
   "display_name": "Python 3",
   "language": "python",
   "name": "python3"
  },
  "language_info": {
   "codemirror_mode": {
    "name": "ipython",
    "version": 3
   },
   "file_extension": ".py",
   "mimetype": "text/x-python",
   "name": "python",
   "nbconvert_exporter": "python",
   "pygments_lexer": "ipython3",
   "version": "3.8.8"
  }
 },
 "nbformat": 4,
 "nbformat_minor": 5
}
